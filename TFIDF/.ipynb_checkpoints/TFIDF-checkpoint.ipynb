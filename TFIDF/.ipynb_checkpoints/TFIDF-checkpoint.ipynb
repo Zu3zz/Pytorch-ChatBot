{
 "cells": [
  {
   "cell_type": "markdown",
   "metadata": {
    "collapsed": true,
    "pycharm": {
     "name": "#%% md\n"
    }
   },
   "source": [
    "### TF-IDF算法代码示例\n",
    "1.引入依赖\n",
    "\n",
    "2.定义数据和预处理\n",
    "\n",
    "3.进行词数统计\n",
    "\n",
    "4.计算词频 TF\n",
    "\n",
    "5.计算逆文档频率 IDF\n",
    "\n",
    "6.计算 TF-IDF"
   ]
  },
  {
   "cell_type": "markdown",
   "metadata": {
    "pycharm": {
     "name": "#%% md\n"
    }
   },
   "source": [
    "#### 1. 引入依赖"
   ]
  },
  {
   "cell_type": "code",
   "execution_count": 1,
   "metadata": {
    "pycharm": {
     "name": "#%%\n"
    }
   },
   "outputs": [],
   "source": [
    "import numpy as np\n",
    "import pandas as pd"
   ]
  },
  {
   "cell_type": "markdown",
   "metadata": {
    "pycharm": {
     "name": "#%% md\n"
    }
   },
   "source": [
    "#### 2. 定义数据和预处理"
   ]
  },
  {
   "cell_type": "code",
   "execution_count": null,
   "metadata": {
    "pycharm": {
     "name": "#%%\n"
    }
   },
   "outputs": [],
   "source": [
    "# 定义文档\n",
    "docA = 'The cat sat on my bed'\n",
    "docB = 'The dog sat on my knees'\n",
    "\n",
    "# 切割文档\n",
    "bowA = docA.split(\" \")\n",
    "bowB = docB.split(\" \")\n",
    "\n",
    "# bowA # ['The', 'cat', 'sat', 'on', 'my', 'bed']\n",
    "# bowB # ['The', 'dog', 'sat', 'on', 'my', 'knees']\n",
    "\n",
    "# 构建词库\n",
    "wordSet = set(bowA).union(set(bowB))\n",
    "\n",
    "# wordSet # {'The', 'bed', 'cat', 'dog', 'knees', 'my', 'on', 'sat'}"
   ]
  }
 ],
 "metadata": {
  "kernelspec": {
   "display_name": "Python 3",
   "language": "python",
   "name": "python3"
  },
  "language_info": {
   "codemirror_mode": {
    "name": "ipython",
    "version": 3
   },
   "file_extension": ".py",
   "mimetype": "text/x-python",
   "name": "python",
   "nbconvert_exporter": "python",
   "pygments_lexer": "ipython3",
   "version": "3.6.3"
  }
 },
 "nbformat": 4,
 "nbformat_minor": 1
}
