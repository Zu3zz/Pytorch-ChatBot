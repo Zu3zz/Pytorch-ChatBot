{
 "cells": [
  {
   "cell_type": "markdown",
   "metadata": {
    "collapsed": true,
    "pycharm": {
     "name": "#%% md\n"
    }
   },
   "source": [
    "#### 基于Sklearn调用TFIDF"
   ]
  },
  {
   "cell_type": "code",
   "execution_count": 3,
   "outputs": [
    {
     "name": "stdout",
     "output_type": "stream",
     "text": [
      "来到 5\n",
      "北京 1\n",
      "清华大学 8\n",
      "网易 11\n",
      "杭研 6\n",
      "大厦 2\n",
      "小明 4\n",
      "硕士 9\n",
      "毕业 7\n",
      "中国 0\n",
      "科学院 10\n",
      "天安门 3\n",
      "---------------------- 0 --------------------\n",
      "中国 0.0\n",
      "北京 0.5264054336099155\n",
      "大厦 0.0\n",
      "天安门 0.0\n",
      "小明 0.0\n",
      "来到 0.5264054336099155\n",
      "杭研 0.0\n",
      "毕业 0.0\n",
      "清华大学 0.6676785446095399\n",
      "硕士 0.0\n",
      "科学院 0.0\n",
      "网易 0.0\n",
      "---------------------- 1 --------------------\n",
      "中国 0.0\n",
      "北京 0.0\n",
      "大厦 0.5254727492640658\n",
      "天安门 0.0\n",
      "小明 0.0\n",
      "来到 0.41428875116588965\n",
      "杭研 0.5254727492640658\n",
      "毕业 0.0\n",
      "清华大学 0.0\n",
      "硕士 0.0\n",
      "科学院 0.0\n",
      "网易 0.5254727492640658\n",
      "---------------------- 2 --------------------\n",
      "中国 0.4472135954999579\n",
      "北京 0.0\n",
      "大厦 0.0\n",
      "天安门 0.0\n",
      "小明 0.4472135954999579\n",
      "来到 0.0\n",
      "杭研 0.0\n",
      "毕业 0.4472135954999579\n",
      "清华大学 0.0\n",
      "硕士 0.4472135954999579\n",
      "科学院 0.4472135954999579\n",
      "网易 0.0\n",
      "---------------------- 3 --------------------\n",
      "中国 0.0\n",
      "北京 0.6191302964899972\n",
      "大厦 0.0\n",
      "天安门 0.7852882757103967\n",
      "小明 0.0\n",
      "来到 0.0\n",
      "杭研 0.0\n",
      "毕业 0.0\n",
      "清华大学 0.0\n",
      "硕士 0.0\n",
      "科学院 0.0\n",
      "网易 0.0\n"
     ]
    }
   ],
   "source": [
    "from sklearn.feature_extraction.text import TfidfVectorizer\n",
    "\n",
    "tfidf = TfidfVectorizer()\n",
    "\n",
    "corpus=[\"我 来到 北京 清华大学\",#第一类文本切词后的结果，词之间以空格隔开\n",
    "        \"他 来到 了 网易 杭研 大厦\",#第二类文本的切词结果\n",
    "        \"小明 硕士 毕业 与 中国 科学院\",#第三类文本的切词结果\n",
    "        \"我 爱 北京 天安门\"]#第四类文本的切词结果\n",
    "\n",
    "result = tfidf.fit_transform(corpus).toarray()\n",
    "# print(result)\n",
    "# 统计关键词频\n",
    "word = tfidf.get_feature_names()\n",
    "# print(word)\n",
    "# word ['中国', '北京', '大厦', '天安门', '小明', '来到', '杭研', '毕业', '清华大学', '硕士', '科学院', '网易']\n",
    "# 统计关键词出现次数，几句话对比几次\n",
    "\n",
    "for k,v in tfidf.vocabulary_.items():\n",
    "    print(k,v)\n",
    "\n",
    "# 对比第i类文本的词语tf-idf权重\n",
    "for i in range(len(result)):\n",
    "    print('----------------------',i,'--------------------')\n",
    "    for j in range(len(word)):\n",
    "        print(word[j],result[i][j])\n",
    "        "
   ],
   "metadata": {
    "collapsed": false,
    "pycharm": {
     "name": "#%%\n"
    }
   }
  }
 ],
 "metadata": {
  "kernelspec": {
   "display_name": "Python 3",
   "language": "python",
   "name": "python3"
  },
  "language_info": {
   "codemirror_mode": {
    "name": "ipython",
    "version": 2
   },
   "file_extension": ".py",
   "mimetype": "text/x-python",
   "name": "python",
   "nbconvert_exporter": "python",
   "pygments_lexer": "ipython2",
   "version": "2.7.6"
  }
 },
 "nbformat": 4,
 "nbformat_minor": 0
}