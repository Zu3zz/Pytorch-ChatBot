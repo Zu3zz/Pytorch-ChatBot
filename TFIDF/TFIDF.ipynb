{
 "cells": [
  {
   "cell_type": "markdown",
   "metadata": {
    "collapsed": true,
    "pycharm": {
     "name": "#%% md\n"
    }
   },
   "source": [
    "### TF-IDF算法代码示例\n",
    "1.引入依赖\n",
    "\n",
    "2.定义数据和预处理\n",
    "\n",
    "3.进行词数统计\n",
    "\n",
    "4.计算词频 TF\n",
    "\n",
    "5.计算逆文档频率 IDF\n",
    "\n",
    "6.计算 TF-IDF"
   ]
  },
  {
   "cell_type": "markdown",
   "metadata": {
    "pycharm": {
     "name": "#%% md\n"
    }
   },
   "source": [
    "#### 1. 引入依赖"
   ]
  },
  {
   "cell_type": "code",
   "execution_count": 9,
   "metadata": {
    "pycharm": {
     "name": "#%%\n"
    }
   },
   "outputs": [],
   "source": [
    "import numpy as np\n",
    "import pandas as pd"
   ]
  },
  {
   "cell_type": "markdown",
   "metadata": {
    "pycharm": {
     "name": "#%% md\n"
    }
   },
   "source": [
    "#### 2. 定义数据和预处理"
   ]
  },
  {
   "cell_type": "code",
   "execution_count": 10,
   "metadata": {
    "pycharm": {
     "name": "#%%\n"
    }
   },
   "outputs": [],
   "source": [
    "# 定义文档\n",
    "docA = 'The cat sat on my bed'\n",
    "docB = 'The dog sat on my knees'\n",
    "\n",
    "# 切割文档\n",
    "bowA = docA.split(\" \")\n",
    "bowB = docB.split(\" \")\n",
    "\n",
    "# bowA # ['The', 'cat', 'sat', 'on', 'my', 'bed']\n",
    "# bowB # ['The', 'dog', 'sat', 'on', 'my', 'knees']\n",
    "\n",
    "# 构建词库\n",
    "wordSet = set(bowA).union(set(bowB))\n",
    "\n",
    "# wordSet # {'The', 'bed', 'cat', 'dog', 'knees', 'my', 'on', 'sat'}"
   ]
  },
  {
   "cell_type": "markdown",
   "source": [
    "#### 3. 进行词频统计"
   ],
   "metadata": {
    "collapsed": false,
    "pycharm": {
     "name": "#%% md\n"
    }
   }
  },
  {
   "cell_type": "code",
   "execution_count": 11,
   "outputs": [
    {
     "data": {
      "text/plain": "   The  bed  cat  dog  knees  my  on  sat\n0    1    1    1    0      0   1   1    1\n1    1    0    0    1      1   1   1    1",
      "text/html": "<div>\n<style>\n    .dataframe thead tr:only-child th {\n        text-align: right;\n    }\n\n    .dataframe thead th {\n        text-align: left;\n    }\n\n    .dataframe tbody tr th {\n        vertical-align: top;\n    }\n</style>\n<table border=\"1\" class=\"dataframe\">\n  <thead>\n    <tr style=\"text-align: right;\">\n      <th></th>\n      <th>The</th>\n      <th>bed</th>\n      <th>cat</th>\n      <th>dog</th>\n      <th>knees</th>\n      <th>my</th>\n      <th>on</th>\n      <th>sat</th>\n    </tr>\n  </thead>\n  <tbody>\n    <tr>\n      <th>0</th>\n      <td>1</td>\n      <td>1</td>\n      <td>1</td>\n      <td>0</td>\n      <td>0</td>\n      <td>1</td>\n      <td>1</td>\n      <td>1</td>\n    </tr>\n    <tr>\n      <th>1</th>\n      <td>1</td>\n      <td>0</td>\n      <td>0</td>\n      <td>1</td>\n      <td>1</td>\n      <td>1</td>\n      <td>1</td>\n      <td>1</td>\n    </tr>\n  </tbody>\n</table>\n</div>"
     },
     "execution_count": 11,
     "metadata": {},
     "output_type": "execute_result"
    }
   ],
   "source": [
    "wordDictA = dict.fromkeys(wordSet,0)\n",
    "wordDictB = dict.fromkeys(wordSet,0)\n",
    "# wordDictA # {'knees': 0, 'bed': 0, 'on': 0, 'The': 0, 'dog': 0, 'my': 0, 'sat': 0, 'cat': 0}\n",
    "\n",
    "# 遍历文档，统计词数\n",
    "for word in bowA:\n",
    "    wordDictA[word]+=1\n",
    "\n",
    "for word in bowB:\n",
    "    wordDictB[word]+=1\n",
    "\n",
    "pd.DataFrame([wordDictA,wordDictB])"
   ],
   "metadata": {
    "collapsed": false,
    "pycharm": {
     "name": "#%%\n"
    }
   }
  },
  {
   "cell_type": "markdown",
   "source": [
    "#### 4. 计算词频 TF"
   ],
   "metadata": {
    "collapsed": false,
    "pycharm": {
     "name": "#%% md\n"
    }
   }
  },
  {
   "cell_type": "code",
   "execution_count": 12,
   "outputs": [
    {
     "name": "stdout",
     "output_type": "stream",
     "text": [
      "{'knees': 0.0, 'bed': 0.16666666666666666, 'on': 0.16666666666666666, 'The': 0.16666666666666666, 'dog': 0.0, 'my': 0.16666666666666666, 'sat': 0.16666666666666666, 'cat': 0.16666666666666666}\n",
      "{'knees': 0.16666666666666666, 'bed': 0.0, 'on': 0.16666666666666666, 'The': 0.16666666666666666, 'dog': 0.16666666666666666, 'my': 0.16666666666666666, 'sat': 0.16666666666666666, 'cat': 0.0}\n"
     ]
    }
   ],
   "source": [
    "def computeTF(wordDict, bow):\n",
    "    # 用一个字典对象保存 TF，把所有对应于 bow 文档里的 TF都计算出来\n",
    "    tfDict = {}\n",
    "    nbowCount = len(bow)\n",
    "\n",
    "    for word,count in wordDict.items():\n",
    "        tfDict[word] = count / nbowCount\n",
    "    return tfDict\n",
    "\n",
    "# 测试\n",
    "tfA = computeTF(wordDictA,bowA)\n",
    "tfB = computeTF(wordDictB,bowB)\n",
    "print(tfA)\n",
    "print(tfB)"
   ],
   "metadata": {
    "collapsed": false,
    "pycharm": {
     "name": "#%%\n"
    }
   }
  },
  {
   "cell_type": "markdown",
   "source": [
    "#### 5. 计算逆文档概率 IDF"
   ],
   "metadata": {
    "collapsed": false,
    "pycharm": {
     "name": "#%% md\n"
    }
   }
  },
  {
   "cell_type": "code",
   "execution_count": 13,
   "outputs": [],
   "source": [
    "def computeIDF(wordDictList):\n",
    "    # 用一个字典对象保存IDF，每个词作为key，初始值为0\n",
    "    idfDict = dict.fromkeys(wordDictList[0],0)\n",
    "    # 文档总量\n",
    "    N = len(wordDictList)\n",
    "\n",
    "    import math\n",
    "    for wordDict in wordDictList:\n",
    "        # 遍历字典中的每个词汇，统计Ni\n",
    "        for word,count in wordDict.items():\n",
    "            if count> 0:\n",
    "                # 先把 Ni 增加 1，存入到 idfDict 中\n",
    "                idfDict[word]+=1\n",
    "    for word,Ni in idfDict.items():\n",
    "        idfDict[word] = math.log10((N+1) / (Ni + 1))\n",
    "    return idfDict\n",
    "\n",
    "# 测试\n",
    "idfs = computeIDF([wordDictA, wordDictB])"
   ],
   "metadata": {
    "collapsed": false,
    "pycharm": {
     "name": "#%%\n"
    }
   }
  },
  {
   "cell_type": "markdown",
   "source": [
    "#### 6. 计算 TFIDF"
   ],
   "metadata": {
    "collapsed": false,
    "pycharm": {
     "name": "#%% md\n"
    }
   }
  },
  {
   "cell_type": "code",
   "execution_count": 14,
   "outputs": [
    {
     "data": {
      "text/plain": "   The       bed       cat       dog     knees   my   on  sat\n0  0.0  0.029349  0.029349  0.000000  0.000000  0.0  0.0  0.0\n1  0.0  0.000000  0.000000  0.029349  0.029349  0.0  0.0  0.0",
      "text/html": "<div>\n<style>\n    .dataframe thead tr:only-child th {\n        text-align: right;\n    }\n\n    .dataframe thead th {\n        text-align: left;\n    }\n\n    .dataframe tbody tr th {\n        vertical-align: top;\n    }\n</style>\n<table border=\"1\" class=\"dataframe\">\n  <thead>\n    <tr style=\"text-align: right;\">\n      <th></th>\n      <th>The</th>\n      <th>bed</th>\n      <th>cat</th>\n      <th>dog</th>\n      <th>knees</th>\n      <th>my</th>\n      <th>on</th>\n      <th>sat</th>\n    </tr>\n  </thead>\n  <tbody>\n    <tr>\n      <th>0</th>\n      <td>0.0</td>\n      <td>0.029349</td>\n      <td>0.029349</td>\n      <td>0.000000</td>\n      <td>0.000000</td>\n      <td>0.0</td>\n      <td>0.0</td>\n      <td>0.0</td>\n    </tr>\n    <tr>\n      <th>1</th>\n      <td>0.0</td>\n      <td>0.000000</td>\n      <td>0.000000</td>\n      <td>0.029349</td>\n      <td>0.029349</td>\n      <td>0.0</td>\n      <td>0.0</td>\n      <td>0.0</td>\n    </tr>\n  </tbody>\n</table>\n</div>"
     },
     "execution_count": 14,
     "metadata": {},
     "output_type": "execute_result"
    }
   ],
   "source": [
    "def computeTFIDF(tf, idfs):\n",
    "    tfIdf = {}\n",
    "    for word,tfval in tf.items():\n",
    "        tfIdf[word] = tfval * idfs[word]\n",
    "    return tfIdf\n",
    "\n",
    "# 测试\n",
    "tfidfA = computeTFIDF(tfA, idfs)\n",
    "tfidfB = computeTFIDF(tfB, idfs)\n",
    "\n",
    "pd.DataFrame([tfidfA, tfidfB])"
   ],
   "metadata": {
    "collapsed": false,
    "pycharm": {
     "name": "#%%\n"
    }
   }
  }
 ],
 "metadata": {
  "kernelspec": {
   "display_name": "Python 3",
   "language": "python",
   "name": "python3"
  },
  "language_info": {
   "codemirror_mode": {
    "name": "ipython",
    "version": 3
   },
   "file_extension": ".py",
   "mimetype": "text/x-python",
   "name": "python",
   "nbconvert_exporter": "python",
   "pygments_lexer": "ipython3",
   "version": "3.6.3"
  }
 },
 "nbformat": 4,
 "nbformat_minor": 1
}