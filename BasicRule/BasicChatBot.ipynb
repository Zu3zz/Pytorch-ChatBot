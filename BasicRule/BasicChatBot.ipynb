{
 "cells": [
  {
   "cell_type": "markdown",
   "metadata": {
    "collapsed": true,
    "pycharm": {
     "name": "#%% md\n"
    }
   },
   "source": [
    "## 聊天机器人v1傻瓜版本"
   ]
  },
  {
   "cell_type": "markdown",
   "source": [
    "- 基于规则的简单聊天机器人构建\n",
    "- 第一课的代码非常的简单,\n",
    "- 就是给大家展示一下rule-based的玩法,\n",
    "- 以及几个角度的升级。\n",
    "- 首先，我们看一个目标和任务：打招呼"
   ],
   "metadata": {
    "collapsed": false,
    "pycharm": {
     "name": "#%% md\n"
    }
   }
  },
  {
   "cell_type": "markdown",
   "source": [
    "#### 问什么回答什么"
   ],
   "metadata": {
    "collapsed": false
   }
  },
  {
   "cell_type": "code",
   "execution_count": 3,
   "outputs": [
    {
     "name": "stdout",
     "output_type": "stream",
     "text": [
      "hey!\n",
      "hey!\n",
      "Okay\n",
      "I did not understand what you said\n"
     ]
    }
   ],
   "source": [
    "import random\n",
    "\n",
    "# 打招呼\n",
    "greetings = ['hola', 'hello', 'hi', 'Hi', 'hey!','hey']\n",
    "# 回复打招呼\n",
    "random_greeting = random.choice(greetings)\n",
    "\n",
    "# 对于“你怎么样？”这个问题的回复\n",
    "question = ['How are you?','How are you doing?']\n",
    "# “我很好”\n",
    "responses = ['Okay',\"I'm fine\"]\n",
    "# 随机选一个回\n",
    "random_response = random.choice(responses)\n",
    "\n",
    "# 机器人跑起来\n",
    "while True:\n",
    "    userInput = input(\">>> \")\n",
    "    if userInput in greetings:\n",
    "        print(random_greeting)\n",
    "    elif userInput in question:\n",
    "        print(random_response)\n",
    "    # 除非你说“拜拜”\n",
    "    elif userInput == 'bye':\n",
    "        break\n",
    "    else:\n",
    "        print(\"I did not understand what you said\")"
   ],
   "metadata": {
    "collapsed": false,
    "pycharm": {
     "name": "#%%\n"
    }
   }
  },
  {
   "cell_type": "markdown",
   "source": [
    "#### 通过关键词判断用户意图\n",
    "\n"
   ],
   "metadata": {
    "collapsed": false,
    "pycharm": {
     "name": "#%% md\n"
    }
   }
  },
  {
   "cell_type": "code",
   "execution_count": null,
   "outputs": [],
   "source": [
    "import random\n",
    "from nltk import word_tokenize\n",
    "\n",
    "# 打招呼\n",
    "greetings = ['hola', 'hello', 'hi', 'Hi', 'hey!','hey']\n",
    "# 回复打招呼\n",
    "random_greeting = random.choice(greetings)\n",
    "\n",
    "#对于假期的话题关键词\n",
    "question = ['break','holiday','vacation','weekend']\n",
    "#针对假期话题的回答\n",
    "responses = ['It was nice',\"I went to Paris\",\"Sadly,I just stay at home\"]\n",
    "# 回复假期话题\n",
    "random_responses = random.choice(responses)\n",
    "\n",
    "# 机器人跑起来\n",
    "while True:\n",
    "    userInput = input(\">>> \")\n",
    "    #清理一下输入\n",
    "    cleaned_input = word_tokenize(userInput)\n",
    "    #对比一下关键词，看看具体属于哪个问题\n",
    "    if not set (cleaned_input).isdisjoint(greetings):\n",
    "        print(random_greeting)\n",
    "    elif not set (cleaned_input).isdisjoint(question):\n",
    "        print(random_responses)\n",
    "    # 除非你说“拜拜”\n",
    "    elif userInput == 'bye':\n",
    "        break\n",
    "    else:\n",
    "        print(\"I did not understand what you said\")"
   ],
   "metadata": {
    "collapsed": false,
    "pycharm": {
     "name": "#%%\n"
    }
   }
  },
  {
   "cell_type": "markdown",
   "source": [
    "我们可以用各种数据库，建立起一套体系，然后通过搜索的方式，来查找答案。\n",
    "\n",
    "比如，最简单的就是Python自己的graph数据结构来搭建一个“地图”。\n",
    "\n",
    "依据这个地图，我们可以清楚的找寻从一个地方到另一个地方的路径，\n",
    "\n",
    "然后作为回答，反馈给用户。\n",
    "\n"
   ],
   "metadata": {
    "collapsed": false,
    "pycharm": {
     "name": "#%% md\n"
    }
   }
  },
  {
   "cell_type": "code",
   "execution_count": 4,
   "outputs": [],
   "source": [
    "# 建立一个基于目标行业的database\n",
    "# 比如 这里我们用python自带的graph\n",
    "graph = {'上海': ['苏州', '常州'],\n",
    "         '苏州': ['常州', '镇江'],\n",
    "         '常州': ['镇江'],\n",
    "         '镇江': ['常州'],\n",
    "         '盐城': ['南通'],\n",
    "         '南通': ['常州']}\n",
    "\n",
    "# 明确如何找到从A到B的路径\n",
    "def find_path(start, end, path=[]):\n",
    "    path = path + [start]\n",
    "    if start == end:\n",
    "        return path\n",
    "    if start not in graph:\n",
    "        return None\n",
    "    for node in graph[start]:\n",
    "        if node not in path:\n",
    "            newpath = find_path(node, end, path)\n",
    "            if newpath: return newpath\n",
    "    return None"
   ],
   "metadata": {
    "collapsed": false,
    "pycharm": {
     "name": "#%%\n"
    }
   }
  },
  {
   "cell_type": "code",
   "execution_count": 5,
   "outputs": [
    {
     "name": "stdout",
     "output_type": "stream",
     "text": [
      "['上海', '苏州', '常州', '镇江']\n"
     ]
    }
   ],
   "source": [
    "print(find_path('上海', \"镇江\"))"
   ],
   "metadata": {
    "collapsed": false,
    "pycharm": {
     "name": "#%%\n"
    }
   }
  }
 ],
 "metadata": {
  "kernelspec": {
   "display_name": "Python 3",
   "language": "python",
   "name": "python3"
  },
  "language_info": {
   "codemirror_mode": {
    "name": "ipython",
    "version": 2
   },
   "file_extension": ".py",
   "mimetype": "text/x-python",
   "name": "python",
   "nbconvert_exporter": "python",
   "pygments_lexer": "ipython2",
   "version": "2.7.6"
  }
 },
 "nbformat": 4,
 "nbformat_minor": 0
}